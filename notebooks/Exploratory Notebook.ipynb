{
 "cells": [
  {
   "cell_type": "markdown",
   "id": "4252929b",
   "metadata": {},
   "source": [
    "# Imports"
   ]
  },
  {
   "cell_type": "code",
   "execution_count": 1,
   "id": "95464502",
   "metadata": {},
   "outputs": [],
   "source": [
    "import pandas as pd\n",
    "import sqlite3"
   ]
  },
  {
   "cell_type": "markdown",
   "id": "d8e77602",
   "metadata": {},
   "source": [
    "# Data Loading"
   ]
  },
  {
   "cell_type": "code",
   "execution_count": 4,
   "id": "6bcafcc8",
   "metadata": {},
   "outputs": [],
   "source": [
    "conn = sqlite3.connect(\"../raw_data/ellipsys_test_db.sqlite\")\n",
    "query = \"SELECT * FROM oa_trf_src\"\n",
    "\n",
    "df = pd.read_sql(query, conn, index_col='id')"
   ]
  },
  {
   "cell_type": "markdown",
   "id": "ea21b88c",
   "metadata": {},
   "source": [
    "## "
   ]
  },
  {
   "cell_type": "code",
   "execution_count": 5,
   "id": "2db012e3",
   "metadata": {},
   "outputs": [
    {
     "data": {
      "text/html": [
       "<div>\n",
       "<style scoped>\n",
       "    .dataframe tbody tr th:only-of-type {\n",
       "        vertical-align: middle;\n",
       "    }\n",
       "\n",
       "    .dataframe tbody tr th {\n",
       "        vertical-align: top;\n",
       "    }\n",
       "\n",
       "    .dataframe thead th {\n",
       "        text-align: right;\n",
       "    }\n",
       "</style>\n",
       "<table border=\"1\" class=\"dataframe\">\n",
       "  <thead>\n",
       "    <tr style=\"text-align: right;\">\n",
       "      <th></th>\n",
       "      <th>trf</th>\n",
       "      <th>tgtTb</th>\n",
       "      <th>tgtLab</th>\n",
       "      <th>srcTb</th>\n",
       "      <th>srcLab</th>\n",
       "      <th>impact</th>\n",
       "    </tr>\n",
       "    <tr>\n",
       "      <th>id</th>\n",
       "      <th></th>\n",
       "      <th></th>\n",
       "      <th></th>\n",
       "      <th></th>\n",
       "      <th></th>\n",
       "      <th></th>\n",
       "    </tr>\n",
       "  </thead>\n",
       "  <tbody>\n",
       "    <tr>\n",
       "      <th>bicprd.fnr_cmn_j</th>\n",
       "      <td>bicprd.fnr_cmn_j.set_valcode_frs_j</td>\n",
       "      <td>vld.tfnr974</td>\n",
       "      <td>rf_cle_cod</td>\n",
       "      <td>dual.sfnr974</td>\n",
       "      <td>nextval</td>\n",
       "      <td>1</td>\n",
       "    </tr>\n",
       "    <tr>\n",
       "      <th>bicprd.set_valcode_frs</th>\n",
       "      <td>bicprd.set_valcode_frs.set_valcode_frs</td>\n",
       "      <td>vld.tfnr974</td>\n",
       "      <td>rf_cle_cod</td>\n",
       "      <td>dual.sfnr974</td>\n",
       "      <td>nextval</td>\n",
       "      <td>1</td>\n",
       "    </tr>\n",
       "    <tr>\n",
       "      <th>bicprd.spik_lstvaleurs</th>\n",
       "      <td>bicprd.spik_lstvaleurs.updlstval_tpfm7a</td>\n",
       "      <td>bicprd.lstvaleurs</td>\n",
       "      <td>owner</td>\n",
       "      <td>ods.tcifp47</td>\n",
       "      <td>cd_typ_cha</td>\n",
       "      <td>-1</td>\n",
       "    </tr>\n",
       "    <tr>\n",
       "      <th>bicprd.spik_lstvaleurs</th>\n",
       "      <td>bicprd.spik_lstvaleurs.updlstval_tpfm7a</td>\n",
       "      <td>bicprd.lstvaleurs</td>\n",
       "      <td>tbl</td>\n",
       "      <td>bicprd.lstvaleurs</td>\n",
       "      <td>valeur</td>\n",
       "      <td>-1</td>\n",
       "    </tr>\n",
       "    <tr>\n",
       "      <th>bicprd.spik_lstvaleurs</th>\n",
       "      <td>bicprd.spik_lstvaleurs.updlstval_tpfm7a</td>\n",
       "      <td>bicprd.lstvaleurs</td>\n",
       "      <td>bo_saisie_auto</td>\n",
       "      <td>ods.tcif432</td>\n",
       "      <td>cd_typ_cha</td>\n",
       "      <td>-1</td>\n",
       "    </tr>\n",
       "  </tbody>\n",
       "</table>\n",
       "</div>"
      ],
      "text/plain": [
       "                                                            trf  \\\n",
       "id                                                                \n",
       "bicprd.fnr_cmn_j             bicprd.fnr_cmn_j.set_valcode_frs_j   \n",
       "bicprd.set_valcode_frs   bicprd.set_valcode_frs.set_valcode_frs   \n",
       "bicprd.spik_lstvaleurs  bicprd.spik_lstvaleurs.updlstval_tpfm7a   \n",
       "bicprd.spik_lstvaleurs  bicprd.spik_lstvaleurs.updlstval_tpfm7a   \n",
       "bicprd.spik_lstvaleurs  bicprd.spik_lstvaleurs.updlstval_tpfm7a   \n",
       "\n",
       "                                    tgtTb          tgtLab              srcTb  \\\n",
       "id                                                                             \n",
       "bicprd.fnr_cmn_j              vld.tfnr974      rf_cle_cod       dual.sfnr974   \n",
       "bicprd.set_valcode_frs        vld.tfnr974      rf_cle_cod       dual.sfnr974   \n",
       "bicprd.spik_lstvaleurs  bicprd.lstvaleurs           owner        ods.tcifp47   \n",
       "bicprd.spik_lstvaleurs  bicprd.lstvaleurs             tbl  bicprd.lstvaleurs   \n",
       "bicprd.spik_lstvaleurs  bicprd.lstvaleurs  bo_saisie_auto        ods.tcif432   \n",
       "\n",
       "                            srcLab impact  \n",
       "id                                         \n",
       "bicprd.fnr_cmn_j           nextval      1  \n",
       "bicprd.set_valcode_frs     nextval      1  \n",
       "bicprd.spik_lstvaleurs  cd_typ_cha     -1  \n",
       "bicprd.spik_lstvaleurs      valeur     -1  \n",
       "bicprd.spik_lstvaleurs  cd_typ_cha     -1  "
      ]
     },
     "execution_count": 5,
     "metadata": {},
     "output_type": "execute_result"
    }
   ],
   "source": [
    "df.head()"
   ]
  },
  {
   "cell_type": "code",
   "execution_count": 6,
   "id": "a4726561",
   "metadata": {},
   "outputs": [
    {
     "data": {
      "text/plain": [
       "(500000, 6)"
      ]
     },
     "execution_count": 6,
     "metadata": {},
     "output_type": "execute_result"
    }
   ],
   "source": [
    "df.shape"
   ]
  },
  {
   "cell_type": "code",
   "execution_count": 8,
   "id": "64b6f519",
   "metadata": {},
   "outputs": [],
   "source": [
    "df = df.astype({\"impact\": int})"
   ]
  },
  {
   "cell_type": "code",
   "execution_count": 10,
   "id": "fc391342",
   "metadata": {},
   "outputs": [
    {
     "data": {
      "text/plain": [
       "trf       object\n",
       "tgtTb     object\n",
       "tgtLab    object\n",
       "srcTb     object\n",
       "srcLab    object\n",
       "impact     int64\n",
       "dtype: object"
      ]
     },
     "execution_count": 10,
     "metadata": {},
     "output_type": "execute_result"
    }
   ],
   "source": [
    "df.dtypes"
   ]
  },
  {
   "cell_type": "code",
   "execution_count": 11,
   "id": "9964be15",
   "metadata": {},
   "outputs": [
    {
     "name": "stdout",
     "output_type": "stream",
     "text": [
      "<class 'pandas.core.frame.DataFrame'>\n",
      "Index: 500000 entries, bicprd.fnr_cmn_j to spiprocs.frm2alim_dm\n",
      "Data columns (total 6 columns):\n",
      " #   Column  Non-Null Count   Dtype \n",
      "---  ------  --------------   ----- \n",
      " 0   trf     500000 non-null  object\n",
      " 1   tgtTb   500000 non-null  object\n",
      " 2   tgtLab  500000 non-null  object\n",
      " 3   srcTb   500000 non-null  object\n",
      " 4   srcLab  500000 non-null  object\n",
      " 5   impact  500000 non-null  int64 \n",
      "dtypes: int64(1), object(5)\n",
      "memory usage: 26.7+ MB\n"
     ]
    }
   ],
   "source": [
    "df.info()"
   ]
  },
  {
   "cell_type": "code",
   "execution_count": 14,
   "id": "8316cd6a",
   "metadata": {},
   "outputs": [
    {
     "data": {
      "text/plain": [
       "trf        421\n",
       "tgtTb      366\n",
       "tgtLab    4054\n",
       "srcTb      634\n",
       "srcLab    4138\n",
       "impact       2\n",
       "dtype: int64"
      ]
     },
     "execution_count": 14,
     "metadata": {},
     "output_type": "execute_result"
    }
   ],
   "source": [
    "df.nunique()"
   ]
  }
 ],
 "metadata": {
  "kernelspec": {
   "display_name": "Python 3 (ipykernel)",
   "language": "python",
   "name": "python3"
  },
  "language_info": {
   "codemirror_mode": {
    "name": "ipython",
    "version": 3
   },
   "file_extension": ".py",
   "mimetype": "text/x-python",
   "name": "python",
   "nbconvert_exporter": "python",
   "pygments_lexer": "ipython3",
   "version": "3.8.6"
  },
  "toc": {
   "base_numbering": 1,
   "nav_menu": {},
   "number_sections": true,
   "sideBar": true,
   "skip_h1_title": false,
   "title_cell": "Table of Contents",
   "title_sidebar": "Contents",
   "toc_cell": false,
   "toc_position": {},
   "toc_section_display": true,
   "toc_window_display": false
  },
  "varInspector": {
   "cols": {
    "lenName": 16,
    "lenType": 16,
    "lenVar": 40
   },
   "kernels_config": {
    "python": {
     "delete_cmd_postfix": "",
     "delete_cmd_prefix": "del ",
     "library": "var_list.py",
     "varRefreshCmd": "print(var_dic_list())"
    },
    "r": {
     "delete_cmd_postfix": ") ",
     "delete_cmd_prefix": "rm(",
     "library": "var_list.r",
     "varRefreshCmd": "cat(var_dic_list()) "
    }
   },
   "types_to_exclude": [
    "module",
    "function",
    "builtin_function_or_method",
    "instance",
    "_Feature"
   ],
   "window_display": false
  }
 },
 "nbformat": 4,
 "nbformat_minor": 5
}
