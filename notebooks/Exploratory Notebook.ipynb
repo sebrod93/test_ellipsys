{
 "cells": [
  {
   "cell_type": "markdown",
   "id": "4571171b",
   "metadata": {},
   "source": [
    "# Imports"
   ]
  },
  {
   "cell_type": "code",
   "execution_count": 1,
   "id": "535a8036",
   "metadata": {},
   "outputs": [],
   "source": [
    "import pandas as pd\n",
    "import sqlite3"
   ]
  },
  {
   "cell_type": "markdown",
   "id": "f911f90c",
   "metadata": {},
   "source": [
    "# Data Loading"
   ]
  },
  {
   "cell_type": "code",
   "execution_count": 2,
   "id": "8748be92",
   "metadata": {},
   "outputs": [],
   "source": [
    "conn = sqlite3.connect(\"../raw_data/ellipsys_test_db.sqlite\")\n",
    "query = \"SELECT * FROM oa_trf_src\"\n",
    "\n",
    "df = pd.read_sql(query, conn, index_col='id')"
   ]
  },
  {
   "cell_type": "markdown",
   "id": "1904987f",
   "metadata": {},
   "source": [
    "## First Lines"
   ]
  },
  {
   "cell_type": "code",
   "execution_count": 3,
   "id": "6624328a",
   "metadata": {},
   "outputs": [
    {
     "data": {
      "text/html": [
       "<div>\n",
       "<style scoped>\n",
       "    .dataframe tbody tr th:only-of-type {\n",
       "        vertical-align: middle;\n",
       "    }\n",
       "\n",
       "    .dataframe tbody tr th {\n",
       "        vertical-align: top;\n",
       "    }\n",
       "\n",
       "    .dataframe thead th {\n",
       "        text-align: right;\n",
       "    }\n",
       "</style>\n",
       "<table border=\"1\" class=\"dataframe\">\n",
       "  <thead>\n",
       "    <tr style=\"text-align: right;\">\n",
       "      <th></th>\n",
       "      <th>trf</th>\n",
       "      <th>tgtTb</th>\n",
       "      <th>tgtLab</th>\n",
       "      <th>srcTb</th>\n",
       "      <th>srcLab</th>\n",
       "      <th>impact</th>\n",
       "    </tr>\n",
       "    <tr>\n",
       "      <th>id</th>\n",
       "      <th></th>\n",
       "      <th></th>\n",
       "      <th></th>\n",
       "      <th></th>\n",
       "      <th></th>\n",
       "      <th></th>\n",
       "    </tr>\n",
       "  </thead>\n",
       "  <tbody>\n",
       "    <tr>\n",
       "      <th>bicprd.fnr_cmn_j</th>\n",
       "      <td>bicprd.fnr_cmn_j.set_valcode_frs_j</td>\n",
       "      <td>vld.tfnr974</td>\n",
       "      <td>rf_cle_cod</td>\n",
       "      <td>dual.sfnr974</td>\n",
       "      <td>nextval</td>\n",
       "      <td>1</td>\n",
       "    </tr>\n",
       "    <tr>\n",
       "      <th>bicprd.set_valcode_frs</th>\n",
       "      <td>bicprd.set_valcode_frs.set_valcode_frs</td>\n",
       "      <td>vld.tfnr974</td>\n",
       "      <td>rf_cle_cod</td>\n",
       "      <td>dual.sfnr974</td>\n",
       "      <td>nextval</td>\n",
       "      <td>1</td>\n",
       "    </tr>\n",
       "    <tr>\n",
       "      <th>bicprd.spik_lstvaleurs</th>\n",
       "      <td>bicprd.spik_lstvaleurs.updlstval_tpfm7a</td>\n",
       "      <td>bicprd.lstvaleurs</td>\n",
       "      <td>owner</td>\n",
       "      <td>ods.tcifp47</td>\n",
       "      <td>cd_typ_cha</td>\n",
       "      <td>-1</td>\n",
       "    </tr>\n",
       "    <tr>\n",
       "      <th>bicprd.spik_lstvaleurs</th>\n",
       "      <td>bicprd.spik_lstvaleurs.updlstval_tpfm7a</td>\n",
       "      <td>bicprd.lstvaleurs</td>\n",
       "      <td>tbl</td>\n",
       "      <td>bicprd.lstvaleurs</td>\n",
       "      <td>valeur</td>\n",
       "      <td>-1</td>\n",
       "    </tr>\n",
       "    <tr>\n",
       "      <th>bicprd.spik_lstvaleurs</th>\n",
       "      <td>bicprd.spik_lstvaleurs.updlstval_tpfm7a</td>\n",
       "      <td>bicprd.lstvaleurs</td>\n",
       "      <td>bo_saisie_auto</td>\n",
       "      <td>ods.tcif432</td>\n",
       "      <td>cd_typ_cha</td>\n",
       "      <td>-1</td>\n",
       "    </tr>\n",
       "  </tbody>\n",
       "</table>\n",
       "</div>"
      ],
      "text/plain": [
       "                                                            trf  \\\n",
       "id                                                                \n",
       "bicprd.fnr_cmn_j             bicprd.fnr_cmn_j.set_valcode_frs_j   \n",
       "bicprd.set_valcode_frs   bicprd.set_valcode_frs.set_valcode_frs   \n",
       "bicprd.spik_lstvaleurs  bicprd.spik_lstvaleurs.updlstval_tpfm7a   \n",
       "bicprd.spik_lstvaleurs  bicprd.spik_lstvaleurs.updlstval_tpfm7a   \n",
       "bicprd.spik_lstvaleurs  bicprd.spik_lstvaleurs.updlstval_tpfm7a   \n",
       "\n",
       "                                    tgtTb          tgtLab              srcTb  \\\n",
       "id                                                                             \n",
       "bicprd.fnr_cmn_j              vld.tfnr974      rf_cle_cod       dual.sfnr974   \n",
       "bicprd.set_valcode_frs        vld.tfnr974      rf_cle_cod       dual.sfnr974   \n",
       "bicprd.spik_lstvaleurs  bicprd.lstvaleurs           owner        ods.tcifp47   \n",
       "bicprd.spik_lstvaleurs  bicprd.lstvaleurs             tbl  bicprd.lstvaleurs   \n",
       "bicprd.spik_lstvaleurs  bicprd.lstvaleurs  bo_saisie_auto        ods.tcif432   \n",
       "\n",
       "                            srcLab impact  \n",
       "id                                         \n",
       "bicprd.fnr_cmn_j           nextval      1  \n",
       "bicprd.set_valcode_frs     nextval      1  \n",
       "bicprd.spik_lstvaleurs  cd_typ_cha     -1  \n",
       "bicprd.spik_lstvaleurs      valeur     -1  \n",
       "bicprd.spik_lstvaleurs  cd_typ_cha     -1  "
      ]
     },
     "execution_count": 3,
     "metadata": {},
     "output_type": "execute_result"
    }
   ],
   "source": [
    "df.head()"
   ]
  },
  {
   "cell_type": "markdown",
   "id": "fbdf8d52",
   "metadata": {},
   "source": [
    "## Table Shape and types"
   ]
  },
  {
   "cell_type": "code",
   "execution_count": 4,
   "id": "dd097028",
   "metadata": {},
   "outputs": [
    {
     "data": {
      "text/plain": [
       "(500000, 6)"
      ]
     },
     "execution_count": 4,
     "metadata": {},
     "output_type": "execute_result"
    }
   ],
   "source": [
    "df.shape"
   ]
  },
  {
   "cell_type": "code",
   "execution_count": 5,
   "id": "c3447260",
   "metadata": {},
   "outputs": [],
   "source": [
    "df = df.astype({\"impact\": int})"
   ]
  },
  {
   "cell_type": "code",
   "execution_count": 6,
   "id": "c7ef770f",
   "metadata": {},
   "outputs": [
    {
     "data": {
      "text/plain": [
       "trf       object\n",
       "tgtTb     object\n",
       "tgtLab    object\n",
       "srcTb     object\n",
       "srcLab    object\n",
       "impact     int64\n",
       "dtype: object"
      ]
     },
     "execution_count": 6,
     "metadata": {},
     "output_type": "execute_result"
    }
   ],
   "source": [
    "df.dtypes"
   ]
  },
  {
   "cell_type": "markdown",
   "id": "e35568e7",
   "metadata": {},
   "source": [
    "## Unique and Null Values"
   ]
  },
  {
   "cell_type": "code",
   "execution_count": 7,
   "id": "d95f8aee",
   "metadata": {},
   "outputs": [
    {
     "name": "stdout",
     "output_type": "stream",
     "text": [
      "<class 'pandas.core.frame.DataFrame'>\n",
      "Index: 500000 entries, bicprd.fnr_cmn_j to spiprocs.frm2alim_dm\n",
      "Data columns (total 6 columns):\n",
      " #   Column  Non-Null Count   Dtype \n",
      "---  ------  --------------   ----- \n",
      " 0   trf     500000 non-null  object\n",
      " 1   tgtTb   500000 non-null  object\n",
      " 2   tgtLab  500000 non-null  object\n",
      " 3   srcTb   500000 non-null  object\n",
      " 4   srcLab  500000 non-null  object\n",
      " 5   impact  500000 non-null  int64 \n",
      "dtypes: int64(1), object(5)\n",
      "memory usage: 26.7+ MB\n"
     ]
    }
   ],
   "source": [
    "df.info()"
   ]
  },
  {
   "cell_type": "code",
   "execution_count": 8,
   "id": "2018f131",
   "metadata": {},
   "outputs": [
    {
     "data": {
      "text/plain": [
       "trf        421\n",
       "tgtTb      366\n",
       "tgtLab    4054\n",
       "srcTb      634\n",
       "srcLab    4138\n",
       "impact       2\n",
       "dtype: int64"
      ]
     },
     "execution_count": 8,
     "metadata": {},
     "output_type": "execute_result"
    }
   ],
   "source": [
    "df.nunique()"
   ]
  },
  {
   "cell_type": "markdown",
   "id": "2a4735ed",
   "metadata": {},
   "source": [
    "## Data Transformation"
   ]
  },
  {
   "cell_type": "code",
   "execution_count": 9,
   "id": "bb4fd19d",
   "metadata": {},
   "outputs": [],
   "source": [
    "#sqlite query\n",
    "\n",
    "conn = sqlite3.connect(\"../raw_data/ellipsys_test_db.sqlite\")\n",
    "query = \"SELECT * FROM oa_trf_src\"\n",
    "\n",
    "df = pd.read_sql(query, conn)\n",
    "\n",
    "#Source Database\n",
    "oa_trf_src = df.astype({\"impact\": int})\n",
    "oa_trf_src_red = df.astype({\"impact\": int})"
   ]
  },
  {
   "cell_type": "code",
   "execution_count": 10,
   "id": "78ba862c",
   "metadata": {},
   "outputs": [
    {
     "data": {
      "text/html": [
       "<div>\n",
       "<style scoped>\n",
       "    .dataframe tbody tr th:only-of-type {\n",
       "        vertical-align: middle;\n",
       "    }\n",
       "\n",
       "    .dataframe tbody tr th {\n",
       "        vertical-align: top;\n",
       "    }\n",
       "\n",
       "    .dataframe thead th {\n",
       "        text-align: right;\n",
       "    }\n",
       "</style>\n",
       "<table border=\"1\" class=\"dataframe\">\n",
       "  <thead>\n",
       "    <tr style=\"text-align: right;\">\n",
       "      <th></th>\n",
       "      <th>id</th>\n",
       "      <th>trf</th>\n",
       "      <th>tgtTb</th>\n",
       "      <th>tgtLab</th>\n",
       "      <th>srcTb</th>\n",
       "      <th>srcLab</th>\n",
       "      <th>impact</th>\n",
       "    </tr>\n",
       "  </thead>\n",
       "  <tbody>\n",
       "    <tr>\n",
       "      <th>0</th>\n",
       "      <td>bicprd.fnr_cmn_j</td>\n",
       "      <td>bicprd.fnr_cmn_j.set_valcode_frs_j</td>\n",
       "      <td>vld.tfnr974</td>\n",
       "      <td>rf_cle_cod</td>\n",
       "      <td>dual.sfnr974</td>\n",
       "      <td>nextval</td>\n",
       "      <td>1</td>\n",
       "    </tr>\n",
       "    <tr>\n",
       "      <th>1</th>\n",
       "      <td>bicprd.set_valcode_frs</td>\n",
       "      <td>bicprd.set_valcode_frs.set_valcode_frs</td>\n",
       "      <td>vld.tfnr974</td>\n",
       "      <td>rf_cle_cod</td>\n",
       "      <td>dual.sfnr974</td>\n",
       "      <td>nextval</td>\n",
       "      <td>1</td>\n",
       "    </tr>\n",
       "    <tr>\n",
       "      <th>2</th>\n",
       "      <td>bicprd.spik_lstvaleurs</td>\n",
       "      <td>bicprd.spik_lstvaleurs.updlstval_tpfm7a</td>\n",
       "      <td>bicprd.lstvaleurs</td>\n",
       "      <td>owner</td>\n",
       "      <td>ods.tcifp47</td>\n",
       "      <td>cd_typ_cha</td>\n",
       "      <td>-1</td>\n",
       "    </tr>\n",
       "    <tr>\n",
       "      <th>3</th>\n",
       "      <td>bicprd.spik_lstvaleurs</td>\n",
       "      <td>bicprd.spik_lstvaleurs.updlstval_tpfm7a</td>\n",
       "      <td>bicprd.lstvaleurs</td>\n",
       "      <td>tbl</td>\n",
       "      <td>bicprd.lstvaleurs</td>\n",
       "      <td>valeur</td>\n",
       "      <td>-1</td>\n",
       "    </tr>\n",
       "    <tr>\n",
       "      <th>4</th>\n",
       "      <td>bicprd.spik_lstvaleurs</td>\n",
       "      <td>bicprd.spik_lstvaleurs.updlstval_tpfm7a</td>\n",
       "      <td>bicprd.lstvaleurs</td>\n",
       "      <td>bo_saisie_auto</td>\n",
       "      <td>ods.tcif432</td>\n",
       "      <td>cd_typ_cha</td>\n",
       "      <td>-1</td>\n",
       "    </tr>\n",
       "  </tbody>\n",
       "</table>\n",
       "</div>"
      ],
      "text/plain": [
       "                       id                                      trf  \\\n",
       "0        bicprd.fnr_cmn_j       bicprd.fnr_cmn_j.set_valcode_frs_j   \n",
       "1  bicprd.set_valcode_frs   bicprd.set_valcode_frs.set_valcode_frs   \n",
       "2  bicprd.spik_lstvaleurs  bicprd.spik_lstvaleurs.updlstval_tpfm7a   \n",
       "3  bicprd.spik_lstvaleurs  bicprd.spik_lstvaleurs.updlstval_tpfm7a   \n",
       "4  bicprd.spik_lstvaleurs  bicprd.spik_lstvaleurs.updlstval_tpfm7a   \n",
       "\n",
       "               tgtTb          tgtLab              srcTb      srcLab  impact  \n",
       "0        vld.tfnr974      rf_cle_cod       dual.sfnr974     nextval       1  \n",
       "1        vld.tfnr974      rf_cle_cod       dual.sfnr974     nextval       1  \n",
       "2  bicprd.lstvaleurs           owner        ods.tcifp47  cd_typ_cha      -1  \n",
       "3  bicprd.lstvaleurs             tbl  bicprd.lstvaleurs      valeur      -1  \n",
       "4  bicprd.lstvaleurs  bo_saisie_auto        ods.tcif432  cd_typ_cha      -1  "
      ]
     },
     "execution_count": 10,
     "metadata": {},
     "output_type": "execute_result"
    }
   ],
   "source": [
    "oa_trf_src.head()"
   ]
  },
  {
   "cell_type": "markdown",
   "id": "55560ef5",
   "metadata": {},
   "source": [
    "## Factorizing"
   ]
  },
  {
   "cell_type": "code",
   "execution_count": 11,
   "id": "56469b6f",
   "metadata": {},
   "outputs": [],
   "source": [
    "correspondances = {}\n",
    "for column in oa_trf_src_red.columns.drop(['impact']):\n",
    "    codes, uniques = pd.factorize(oa_trf_src_red[column])\n",
    "    oa_trf_src_red[column] = codes\n",
    "    correspondances[f'oa_trf_src_{column}_lkp'] = pd.DataFrame(uniques, columns=[\"champ\"])"
   ]
  },
  {
   "cell_type": "code",
   "execution_count": 12,
   "id": "6b8f7ee5",
   "metadata": {},
   "outputs": [
    {
     "data": {
      "text/html": [
       "<div>\n",
       "<style scoped>\n",
       "    .dataframe tbody tr th:only-of-type {\n",
       "        vertical-align: middle;\n",
       "    }\n",
       "\n",
       "    .dataframe tbody tr th {\n",
       "        vertical-align: top;\n",
       "    }\n",
       "\n",
       "    .dataframe thead th {\n",
       "        text-align: right;\n",
       "    }\n",
       "</style>\n",
       "<table border=\"1\" class=\"dataframe\">\n",
       "  <thead>\n",
       "    <tr style=\"text-align: right;\">\n",
       "      <th></th>\n",
       "      <th>id</th>\n",
       "      <th>trf</th>\n",
       "      <th>tgtTb</th>\n",
       "      <th>tgtLab</th>\n",
       "      <th>srcTb</th>\n",
       "      <th>srcLab</th>\n",
       "      <th>impact</th>\n",
       "    </tr>\n",
       "  </thead>\n",
       "  <tbody>\n",
       "    <tr>\n",
       "      <th>0</th>\n",
       "      <td>0</td>\n",
       "      <td>0</td>\n",
       "      <td>0</td>\n",
       "      <td>0</td>\n",
       "      <td>0</td>\n",
       "      <td>0</td>\n",
       "      <td>1</td>\n",
       "    </tr>\n",
       "    <tr>\n",
       "      <th>1</th>\n",
       "      <td>1</td>\n",
       "      <td>1</td>\n",
       "      <td>0</td>\n",
       "      <td>0</td>\n",
       "      <td>0</td>\n",
       "      <td>0</td>\n",
       "      <td>1</td>\n",
       "    </tr>\n",
       "    <tr>\n",
       "      <th>2</th>\n",
       "      <td>2</td>\n",
       "      <td>2</td>\n",
       "      <td>1</td>\n",
       "      <td>1</td>\n",
       "      <td>1</td>\n",
       "      <td>1</td>\n",
       "      <td>-1</td>\n",
       "    </tr>\n",
       "    <tr>\n",
       "      <th>3</th>\n",
       "      <td>2</td>\n",
       "      <td>2</td>\n",
       "      <td>1</td>\n",
       "      <td>2</td>\n",
       "      <td>2</td>\n",
       "      <td>2</td>\n",
       "      <td>-1</td>\n",
       "    </tr>\n",
       "    <tr>\n",
       "      <th>4</th>\n",
       "      <td>2</td>\n",
       "      <td>2</td>\n",
       "      <td>1</td>\n",
       "      <td>3</td>\n",
       "      <td>3</td>\n",
       "      <td>1</td>\n",
       "      <td>-1</td>\n",
       "    </tr>\n",
       "  </tbody>\n",
       "</table>\n",
       "</div>"
      ],
      "text/plain": [
       "   id  trf  tgtTb  tgtLab  srcTb  srcLab  impact\n",
       "0   0    0      0       0      0       0       1\n",
       "1   1    1      0       0      0       0       1\n",
       "2   2    2      1       1      1       1      -1\n",
       "3   2    2      1       2      2       2      -1\n",
       "4   2    2      1       3      3       1      -1"
      ]
     },
     "execution_count": 12,
     "metadata": {},
     "output_type": "execute_result"
    }
   ],
   "source": [
    "oa_trf_src_red.head()"
   ]
  },
  {
   "cell_type": "code",
   "execution_count": 13,
   "id": "f93212d1",
   "metadata": {},
   "outputs": [],
   "source": [
    "oa_trf_src_red.to_sql(name='oa_trf_src_red', con=conn, index=False)\n",
    "\n",
    "for key, table in correspondances.items():\n",
    "    table.to_sql(name=key, con=conn, index_label=\"id\")"
   ]
  }
 ],
 "metadata": {
  "kernelspec": {
   "display_name": "Python 3 (ipykernel)",
   "language": "python",
   "name": "python3"
  },
  "language_info": {
   "codemirror_mode": {
    "name": "ipython",
    "version": 3
   },
   "file_extension": ".py",
   "mimetype": "text/x-python",
   "name": "python",
   "nbconvert_exporter": "python",
   "pygments_lexer": "ipython3",
   "version": "3.8.12"
  },
  "toc": {
   "base_numbering": 1,
   "nav_menu": {},
   "number_sections": true,
   "sideBar": true,
   "skip_h1_title": false,
   "title_cell": "Table of Contents",
   "title_sidebar": "Contents",
   "toc_cell": false,
   "toc_position": {},
   "toc_section_display": true,
   "toc_window_display": false
  },
  "varInspector": {
   "cols": {
    "lenName": 16,
    "lenType": 16,
    "lenVar": 40
   },
   "kernels_config": {
    "python": {
     "delete_cmd_postfix": "",
     "delete_cmd_prefix": "del ",
     "library": "var_list.py",
     "varRefreshCmd": "print(var_dic_list())"
    },
    "r": {
     "delete_cmd_postfix": ") ",
     "delete_cmd_prefix": "rm(",
     "library": "var_list.r",
     "varRefreshCmd": "cat(var_dic_list()) "
    }
   },
   "types_to_exclude": [
    "module",
    "function",
    "builtin_function_or_method",
    "instance",
    "_Feature"
   ],
   "window_display": false
  }
 },
 "nbformat": 4,
 "nbformat_minor": 5
}
